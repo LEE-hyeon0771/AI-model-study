{
 "cells": [
  {
   "cell_type": "markdown",
   "id": "1a94b636",
   "metadata": {},
   "source": [
    "# SSE"
   ]
  },
  {
   "cell_type": "code",
   "execution_count": 1,
   "id": "c95aa5f4",
   "metadata": {},
   "outputs": [],
   "source": [
    "import numpy as np\n",
    "\n",
    "def sum_squares_error(y, t):\n",
    "    return 0.5 * np.sum((y-t)**2)"
   ]
  },
  {
   "cell_type": "code",
   "execution_count": 2,
   "id": "5acb8605",
   "metadata": {},
   "outputs": [
    {
     "name": "stdout",
     "output_type": "stream",
     "text": [
      "0.09750000000000003\n",
      "0.5975\n"
     ]
    }
   ],
   "source": [
    "t = [0,0,1,0,0,0,0,0,0,0]     # one-hot-encoding : 1은 정답 위치 원소, 나머지는 0 으로 0과 1만으로 표현하는 기법\n",
    "\n",
    "# Case1\n",
    "y1 = [0.1, 0.05, 0.6, 0.0, 0.05, 0.1, 0.0, 0.1, 0.0, 0.0]\n",
    "\n",
    "SSE1 = sum_squares_error(np.array(y1), np.array(t))\n",
    "\n",
    "print(SSE1)\n",
    "\n",
    "# Case2\n",
    "y2 = [0.1, 0.05, 0.1, 0.0, 0.05, 0.1, 0.0, 0.6, 0.0, 0.0]\n",
    "\n",
    "SSE2 = sum_squares_error(np.array(y2), np.array(t))\n",
    "\n",
    "print(SSE2)"
   ]
  },
  {
   "cell_type": "markdown",
   "id": "dce814f4",
   "metadata": {},
   "source": [
    "# CEE"
   ]
  },
  {
   "cell_type": "code",
   "execution_count": 3,
   "id": "7965359d",
   "metadata": {},
   "outputs": [],
   "source": [
    "import numpy as np\n",
    "\n",
    "def cross_entropy_error(y, t):\n",
    "    delta = 1e-7\n",
    "    return -np.sum(t * np.log(y + delta))"
   ]
  },
  {
   "cell_type": "code",
   "execution_count": 5,
   "id": "227e3b57",
   "metadata": {},
   "outputs": [
    {
     "name": "stdout",
     "output_type": "stream",
     "text": [
      "0.510825457099338\n",
      "2.302584092994546\n"
     ]
    }
   ],
   "source": [
    "t = [0,0,1,0,0,0,0,0,0,0]     # one-hot-encoding : 1은 정답 위치 원소, 나머지는 0 으로 0과 1만으로 표현하는 기법\n",
    "\n",
    "# Case1\n",
    "y1 = [0.1, 0.05, 0.6, 0.0, 0.05, 0.1, 0.0, 0.1, 0.0, 0.0]\n",
    "\n",
    "CEE1 = cross_entropy_error(np.array(y1), np.array(t))\n",
    "\n",
    "print(CEE1)\n",
    "\n",
    "# Case2\n",
    "y2 = [0.1, 0.05, 0.1, 0.0, 0.05, 0.1, 0.0, 0.6, 0.0, 0.0]\n",
    "CEE2 = cross_entropy_error(np.array(y2), np.array(t))\n",
    "\n",
    "print(CEE2)"
   ]
  }
 ],
 "metadata": {
  "kernelspec": {
   "display_name": "Python 3 (ipykernel)",
   "language": "python",
   "name": "python3"
  },
  "language_info": {
   "codemirror_mode": {
    "name": "ipython",
    "version": 3
   },
   "file_extension": ".py",
   "mimetype": "text/x-python",
   "name": "python",
   "nbconvert_exporter": "python",
   "pygments_lexer": "ipython3",
   "version": "3.9.7"
  }
 },
 "nbformat": 4,
 "nbformat_minor": 5
}
